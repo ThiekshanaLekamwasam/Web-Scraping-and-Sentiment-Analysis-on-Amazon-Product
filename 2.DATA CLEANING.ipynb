{
 "cells": [
  {
   "cell_type": "markdown",
   "id": "8898199c",
   "metadata": {},
   "source": [
    "# Importing Dependencies"
   ]
  },
  {
   "cell_type": "code",
   "execution_count": 2,
   "id": "22ed0fd9",
   "metadata": {},
   "outputs": [],
   "source": [
    "import pandas as pd\n",
    "import numpy as np\n",
    "import seaborn as sns\n",
    "import matplotlib.pyplot as plt\n",
    "pd.set_option(\"max_colwidth\", None)\n",
    "plt.style.use('ggplot')\n",
    "import plotly.express as px\n",
    "import re\n",
    "import string"
   ]
  },
  {
   "cell_type": "markdown",
   "id": "566cb6a2",
   "metadata": {},
   "source": [
    "- **numpy**: package for numerical computations in Python.\n",
    "- **seaborn**: data visualization library built on top of Matplotlib. \n",
    "- **matplotlib.pyplot**: is a comprehensive library for creating static, animated, and interactive visualizations in Python. The pyplot module provides a MATLAB-like interface for creating various types of plots, such as line plots, scatter plots, histograms\n",
    "- **plotly.express**: is a powerful library for creating interactive plots and dashboards. plotly.express is a high-level interface for creating a variety of charts with minimal code. It provides an easy way to generate interactive visualizations for exploratory data analysis.\n",
    "- **string**: provides a collection of string constants and classes useful for various string manipulations.\n",
    "- *pd.set_option(\"max_coldwith\")*: Setting the maximum column width to be unlimited.\n",
    "- *plt.style_use('ggplot')*: Setting the style of Matplotlib plots to emulate the style of the popular \"ggplot\" package from R."
   ]
  },
  {
   "cell_type": "code",
   "execution_count": 3,
   "id": "0f2ac8d1",
   "metadata": {
    "scrolled": true
   },
   "outputs": [
    {
     "data": {
      "text/html": [
       "<div>\n",
       "<style scoped>\n",
       "    .dataframe tbody tr th:only-of-type {\n",
       "        vertical-align: middle;\n",
       "    }\n",
       "\n",
       "    .dataframe tbody tr th {\n",
       "        vertical-align: top;\n",
       "    }\n",
       "\n",
       "    .dataframe thead th {\n",
       "        text-align: right;\n",
       "    }\n",
       "</style>\n",
       "<table border=\"1\" class=\"dataframe\">\n",
       "  <thead>\n",
       "    <tr style=\"text-align: right;\">\n",
       "      <th></th>\n",
       "      <th>ID</th>\n",
       "      <th>Review</th>\n",
       "      <th>Title</th>\n",
       "      <th>Rating</th>\n",
       "      <th>Date</th>\n",
       "    </tr>\n",
       "  </thead>\n",
       "  <tbody>\n",
       "    <tr>\n",
       "      <th>0</th>\n",
       "      <td>John C.</td>\n",
       "      <td>i have owned the momentum 2’s for many years and love them. but, after the battery started to fail and took over 8hrs to charge i decided to upgrade. here are my thoughts:sound - really good, but different to the 2’s. took some time to get used to but i really like the sound now.battery - amazing. 60 hours is huge and makes such a difference not having to charge so regularly.comfort - the 2’s were great but these are on another level. can wear for hours on end without getting hot or ever feeling uncomfortable.look - the 2’s looked amazing with the ivory colour. these look ok, but do not stand out. build quality is excellent. no creaking on mine.controls - i hate the touch controls and miss having a button to adjust the volume. if adjusting, then it is easy to activate a control. changing the volume is hit and miss. i have turned touch controls off as they are too unreliable. it would be good to switch just some of the controls off and just have volume, or have the ability to change via the app. maybe having less controls would help it work better.connectivity - multiple devices works fine. i’ve had no issues but it niggles me that when you connect, you get a lovely voice that tells you it has connected, but when you connect a  bluetooth device, a lady from essex tells you it is connected. it is so wierd they use different voices for different announcements.all in all a great pair of headphones but i wish sennheiser would address some minor niggles.</td>\n",
       "      <td>awesome headphones…. but…</td>\n",
       "      <td>4.0</td>\n",
       "      <td>08 10 2023</td>\n",
       "    </tr>\n",
       "    <tr>\n",
       "      <th>1</th>\n",
       "      <td>R Griffiths</td>\n",
       "      <td>at first i felt these headphones were a mixed bag of tricks. i had read other reviewers had problems but having an earlier sennheiser model and being familiar with their app i hoped for the best. however it took ages to get going. the on off control is tricky - to get a bluetooth connection the on button must be pressed till the lights flash rapidly. it's also hard to tell if it's really switched off. i then had a nightmare trying to connect to the sennheiser app. my older set connects to both the app and bluetooth in seconds and works brilliantly but the momentum 4 took me the best part of an hour plus another thirty minutes to install a firmware update. the problem i had, i think, was i initially tried connecting using a fire10 tablet and the app just didn't like it. as a last attempt i tried the fire max 11 which worked at once. i then then downloaded the update by which time i had had enough electronics for one very stressful evening. the next morning i tried again with the fire 10 and all was well. it seems the update resolved issues connecting to the app but unless you have another device or can find another way to update it's frustrating. sennheiser do say their app is designed for phones primarily and do offer support with tablet related problems but in the event i didn't need to contact them. since that first attempt i have had absolutely no problems with connection at all on any of the three devices i use.the sennheiser sound is superb on the momentum 4. i very much like the sound check system which helps to establish your personal presets by offering several sets of three settings - you select your preferred out of each set. i like a wide range of music including jazz, opera, rock, metal and in a few minutes was able to save settings for each genre. i had done this before with my older sennheiser with great success but the sound on this newer set is brilliant. unlike other reviewers i like the app. once you find your way round it it's easy to use and the online manual is comprehensive and clearly written.there is only one button on the momentum 4 much to my relief - and as i have said that one needs a bit of learning to operate effectively. other controls are by touch and these work extremely well  - swipe up and down for volume, touch for stop start etc.  unless you are committed to buttons this is a great improvement. the set is extremely comfortable with a neat flat appearance. i have noticed no clicking or creaking noises and no heat to my ears. it stays connected even when i move around a lot and stops as soon as removed from the head. the case is well designed with room for cables and guidance notes.i have used the set for about 40 hours so far, battery is still 50% charged. noise cancellation is easy to adjust on the app or the headphone touch control and seems good although i am in a quiet room. i haven't tried a phone connection as i am in an area where mobile reception is appalling.overall i am very happy but more comprehensive guidance notes in the initial paperwork would have saved me a frustrating hour - but i say that about anything new!!if your primary wish is great sound at a medium price this is a wonderful buy. but be ready to take time to establish connections and don't miss the update.</td>\n",
       "      <td>wonderful sound now that initial connection issues resolved</td>\n",
       "      <td>5.0</td>\n",
       "      <td>13 07 2023</td>\n",
       "    </tr>\n",
       "    <tr>\n",
       "      <th>2</th>\n",
       "      <td>Simon Pawlin</td>\n",
       "      <td>i wasn’t sure how good these were going to be as iv not had a pair of wireless premium over ear cans before. i have been using apple airpods pro and found these to be very average with rubbish bass. i wanted some headphones that were comfortable, had an open sound but with good bass. not blast your ass off bass mind you, but bass that would be quality.set up was a little bit of a mixed bag and i had to faff about a bit at first, as it didn’t work first time. but it  was a smooth experience the second time around.sound quality is excellent once you tailor it to your taste. the sound is open and expansive and bass feels well controlled, deep and heavy in tracks where that is intended and gentle where it is not. so i really enjoy that it pounds to dance tracks and rumbles to pop and rnb. mids and highs are tight and clear. have not experienced any distortion at any volume.i would say that noise cancelling is ok. it’s not the best but not bad either. if this is critical for you, look elsewhere. there isn’t any pressure sensation you sometimes get- well not that i noticed anyway.the good? these are really light and comfortable and the sound is very very good with quality bass, mids and highs. a real highlight though is the battery; i have had these for a while now and only charged them fully once- which is brilliant. another thing i like is these have a great case.the bad? well, i have had a really mixed experience with connecting to the pc with the usb-c cable. it sometimes works but mostly doesn't. also, it can often repeatedly announce it is ‘connecting’ or ‘disconnecting’ which can get a little annoying. it’s seems to do this when you have multiple devices nearby. but that seems to have settled over the last few weeks and doesn’t happen as often as it used to.overall, for the price, i am really happy with these. they are quality. i have listened to the ridiculously priced apple airpods max and i think these sound better and are more comfortable. i can’t compare to sony mx5 as only listened to them once. i think you’ll be happy with these great headphones</td>\n",
       "      <td>comfortable and quality sound</td>\n",
       "      <td>4.0</td>\n",
       "      <td>04 08 2023</td>\n",
       "    </tr>\n",
       "    <tr>\n",
       "      <th>3</th>\n",
       "      <td>Dezmo63</td>\n",
       "      <td>read a very long review by a lady who had trialed hers for months, like what she had to say, didn't like the fact that other well known brands were not even in the top five for recommended, so i've used mine and i am impressed with the battery life after playing music at decent volume with bass boosted checking app and seeing that battery hasn't even left 100% mark, further playing and only after a few hours it's still got 80% left. i do like one feature in particular if you take headphone off your head the music pauses and when you put them back to your ears the music continues, brilliant as you don't miss the tracks you were listening to unlike other headphones which would play the music off the head. very comfortable to wear virtually no drag on your head from the cradle very firm seating of ear cups no leakage from outside. be careful not to increase the volume too much when using the equaliser as i noticed that the volume is capable of making these headphones dance off your head (vibration intense). bought mine off amazon as i wanted them asap, but you will save a good bit by shopping around. best headphones i've ever had and they will last for years.</td>\n",
       "      <td>60 hour battery life. amazing.</td>\n",
       "      <td>5.0</td>\n",
       "      <td>01 10 2023</td>\n",
       "    </tr>\n",
       "    <tr>\n",
       "      <th>4</th>\n",
       "      <td>Gabriele Fazio</td>\n",
       "      <td>this is the 3rd wireless headphones i owned in the same price range. the other 2 being from the other 2 main brands selling this type of product. compared to the other 2 brands, these are more balanced. noticeably less kick on the low frequencies. i find them nicer for jazz but less engaging for r&amp;b and similar. it's matter of taste, great quality overall. battery life much better than the others.on the other side, controls are much worse than both the other brands. being a very smart product it has almost no buttons, but whenever you accidentally brush against any of their surfaces, even by turning your neck, they pause, start, or do something else. it can be rather annoying. the features of recognition of movement to automatically turn on/off is useless: you can't listen to music while you sit on a train or they'll turn off after a few minutes because you've not moved your head enough to keep them turned on. overall a bit of a faff to use sometimes.</td>\n",
       "      <td>good quality, bad controls</td>\n",
       "      <td>4.0</td>\n",
       "      <td>06 09 2023</td>\n",
       "    </tr>\n",
       "    <tr>\n",
       "      <th>...</th>\n",
       "      <td>...</td>\n",
       "      <td>...</td>\n",
       "      <td>...</td>\n",
       "      <td>...</td>\n",
       "      <td>...</td>\n",
       "    </tr>\n",
       "    <tr>\n",
       "      <th>95</th>\n",
       "      <td>Mr. P. Charles</td>\n",
       "      <td>loved my gsp650s thought the momentum 4 would be a premium headset. they are, but the moment you utilize the mic the sound stage drops sound turns to garbage. this seems like a limitation with bluetooth but the same happens with the supplied wire. as such returning these and getting a proper gaming headset with sadly, worse sound but functionally better.</td>\n",
       "      <td>do not buy for gaming</td>\n",
       "      <td>1.0</td>\n",
       "      <td>26 11 2022</td>\n",
       "    </tr>\n",
       "    <tr>\n",
       "      <th>96</th>\n",
       "      <td>Wayne</td>\n",
       "      <td>bought these probably about 2 months ago, absolutely rubbish, they won’t come on now , so threw them in the bin , waste of money.</td>\n",
       "      <td>rubbish</td>\n",
       "      <td>1.0</td>\n",
       "      <td>12 03 2023</td>\n",
       "    </tr>\n",
       "    <tr>\n",
       "      <th>97</th>\n",
       "      <td>\"kas5239\"</td>\n",
       "      <td>bought in august for my son's september birthday. they stopped working shortly after he received them. was told by amazon they had to be repaired not refunded because refund window was closed. sent to amazon approved repairer 5th october. the headphones are still not back. disappointed with the quality of the product and how it's being dealt with by amazon. i would like a refund for the bother and disappointment.</td>\n",
       "      <td>headphones developed a fault very quickly</td>\n",
       "      <td>1.0</td>\n",
       "      <td>30 10 2022</td>\n",
       "    </tr>\n",
       "    <tr>\n",
       "      <th>98</th>\n",
       "      <td>Suzi Edwards-Alexander</td>\n",
       "      <td>bought two pairs. returned one pair because they wouldn't reliably turn on or pair. but the design of the controls is just terrible. the touch panel keeps getting bumped and doing things, it randomly turns the mic on and off during calls. there is only a single physical button that you have to hold in for different lengths of time to do anything.they sound good, but are unusable so that's irrelevant. avoid.</td>\n",
       "      <td>unusable and unreliable</td>\n",
       "      <td>1.0</td>\n",
       "      <td>15 09 2022</td>\n",
       "    </tr>\n",
       "    <tr>\n",
       "      <th>99</th>\n",
       "      <td>Seb K</td>\n",
       "      <td>the sound quality, build, battery life  and noise cancellation are all great. the headphones are let down by the power button that never works, frequently requiring a hard reset taking 30secs or more to switch the headphones back on. 2 firmware updates in and i still have the issue. would not recommend.</td>\n",
       "      <td>great headphones. let down by power button issues</td>\n",
       "      <td>1.0</td>\n",
       "      <td>16 11 2022</td>\n",
       "    </tr>\n",
       "  </tbody>\n",
       "</table>\n",
       "<p>100 rows × 5 columns</p>\n",
       "</div>"
      ],
      "text/plain": [
       "                        ID  \\\n",
       "0                  John C.   \n",
       "1              R Griffiths   \n",
       "2             Simon Pawlin   \n",
       "3                  Dezmo63   \n",
       "4           Gabriele Fazio   \n",
       "..                     ...   \n",
       "95          Mr. P. Charles   \n",
       "96                   Wayne   \n",
       "97               \"kas5239\"   \n",
       "98  Suzi Edwards-Alexander   \n",
       "99                   Seb K   \n",
       "\n",
       "                                                                                                                                                                                                                                                                                                                                                                                                                                                                                                                                                                                                                                                                                                                                                                                                                                                                                                                                                                                                                                                                                                                                                                                                                                                                                                                                                                                                                                                                                                                                                                                                                                                                                                                                                                                                                                                                                                                                                                                                                                                                                                                                                                                                                                                                                                                                                                                                                                                                                                                                                                                                                                                                                                                                                                                                                                                                                                                                                                                                                                                                                                                                                                                                                                                                                                                                                                                                         Review  \\\n",
       "0                                                                                                                                                                                                                                                                                                                                                                                                                                                                                                                                                                                                                                                                                                                                                                                                                                                                                                                                                                                                                                                                                                                                                                                                                                                                                                                                                                                                                                                                                                                                                                                                                                                                                                                                                                                                                                                                              i have owned the momentum 2’s for many years and love them. but, after the battery started to fail and took over 8hrs to charge i decided to upgrade. here are my thoughts:sound - really good, but different to the 2’s. took some time to get used to but i really like the sound now.battery - amazing. 60 hours is huge and makes such a difference not having to charge so regularly.comfort - the 2’s were great but these are on another level. can wear for hours on end without getting hot or ever feeling uncomfortable.look - the 2’s looked amazing with the ivory colour. these look ok, but do not stand out. build quality is excellent. no creaking on mine.controls - i hate the touch controls and miss having a button to adjust the volume. if adjusting, then it is easy to activate a control. changing the volume is hit and miss. i have turned touch controls off as they are too unreliable. it would be good to switch just some of the controls off and just have volume, or have the ability to change via the app. maybe having less controls would help it work better.connectivity - multiple devices works fine. i’ve had no issues but it niggles me that when you connect, you get a lovely voice that tells you it has connected, but when you connect a  bluetooth device, a lady from essex tells you it is connected. it is so wierd they use different voices for different announcements.all in all a great pair of headphones but i wish sennheiser would address some minor niggles.   \n",
       "1   at first i felt these headphones were a mixed bag of tricks. i had read other reviewers had problems but having an earlier sennheiser model and being familiar with their app i hoped for the best. however it took ages to get going. the on off control is tricky - to get a bluetooth connection the on button must be pressed till the lights flash rapidly. it's also hard to tell if it's really switched off. i then had a nightmare trying to connect to the sennheiser app. my older set connects to both the app and bluetooth in seconds and works brilliantly but the momentum 4 took me the best part of an hour plus another thirty minutes to install a firmware update. the problem i had, i think, was i initially tried connecting using a fire10 tablet and the app just didn't like it. as a last attempt i tried the fire max 11 which worked at once. i then then downloaded the update by which time i had had enough electronics for one very stressful evening. the next morning i tried again with the fire 10 and all was well. it seems the update resolved issues connecting to the app but unless you have another device or can find another way to update it's frustrating. sennheiser do say their app is designed for phones primarily and do offer support with tablet related problems but in the event i didn't need to contact them. since that first attempt i have had absolutely no problems with connection at all on any of the three devices i use.the sennheiser sound is superb on the momentum 4. i very much like the sound check system which helps to establish your personal presets by offering several sets of three settings - you select your preferred out of each set. i like a wide range of music including jazz, opera, rock, metal and in a few minutes was able to save settings for each genre. i had done this before with my older sennheiser with great success but the sound on this newer set is brilliant. unlike other reviewers i like the app. once you find your way round it it's easy to use and the online manual is comprehensive and clearly written.there is only one button on the momentum 4 much to my relief - and as i have said that one needs a bit of learning to operate effectively. other controls are by touch and these work extremely well  - swipe up and down for volume, touch for stop start etc.  unless you are committed to buttons this is a great improvement. the set is extremely comfortable with a neat flat appearance. i have noticed no clicking or creaking noises and no heat to my ears. it stays connected even when i move around a lot and stops as soon as removed from the head. the case is well designed with room for cables and guidance notes.i have used the set for about 40 hours so far, battery is still 50% charged. noise cancellation is easy to adjust on the app or the headphone touch control and seems good although i am in a quiet room. i haven't tried a phone connection as i am in an area where mobile reception is appalling.overall i am very happy but more comprehensive guidance notes in the initial paperwork would have saved me a frustrating hour - but i say that about anything new!!if your primary wish is great sound at a medium price this is a wonderful buy. but be ready to take time to establish connections and don't miss the update.   \n",
       "2                                                                                                                                                                                                                                                                                                                                                                                                                                                                                                                                                                                                                                                                                                                                                                                                                                                                                                                                                                                                                                                                                                                                                                                                                                     i wasn’t sure how good these were going to be as iv not had a pair of wireless premium over ear cans before. i have been using apple airpods pro and found these to be very average with rubbish bass. i wanted some headphones that were comfortable, had an open sound but with good bass. not blast your ass off bass mind you, but bass that would be quality.set up was a little bit of a mixed bag and i had to faff about a bit at first, as it didn’t work first time. but it  was a smooth experience the second time around.sound quality is excellent once you tailor it to your taste. the sound is open and expansive and bass feels well controlled, deep and heavy in tracks where that is intended and gentle where it is not. so i really enjoy that it pounds to dance tracks and rumbles to pop and rnb. mids and highs are tight and clear. have not experienced any distortion at any volume.i would say that noise cancelling is ok. it’s not the best but not bad either. if this is critical for you, look elsewhere. there isn’t any pressure sensation you sometimes get- well not that i noticed anyway.the good? these are really light and comfortable and the sound is very very good with quality bass, mids and highs. a real highlight though is the battery; i have had these for a while now and only charged them fully once- which is brilliant. another thing i like is these have a great case.the bad? well, i have had a really mixed experience with connecting to the pc with the usb-c cable. it sometimes works but mostly doesn't. also, it can often repeatedly announce it is ‘connecting’ or ‘disconnecting’ which can get a little annoying. it’s seems to do this when you have multiple devices nearby. but that seems to have settled over the last few weeks and doesn’t happen as often as it used to.overall, for the price, i am really happy with these. they are quality. i have listened to the ridiculously priced apple airpods max and i think these sound better and are more comfortable. i can’t compare to sony mx5 as only listened to them once. i think you’ll be happy with these great headphones   \n",
       "3                                                                                                                                                                                                                                                                                                                                                                                                                                                                                                                                                                                                                                                                                                                                                                                                                                                                                                                                                                                                                                                                                                                                                                                                                                                                                                                                                                                                                                                                                                                                                                                                                                                                                                                                                                                                                                                                                                                                                                                                                                                                                                                                                                                        read a very long review by a lady who had trialed hers for months, like what she had to say, didn't like the fact that other well known brands were not even in the top five for recommended, so i've used mine and i am impressed with the battery life after playing music at decent volume with bass boosted checking app and seeing that battery hasn't even left 100% mark, further playing and only after a few hours it's still got 80% left. i do like one feature in particular if you take headphone off your head the music pauses and when you put them back to your ears the music continues, brilliant as you don't miss the tracks you were listening to unlike other headphones which would play the music off the head. very comfortable to wear virtually no drag on your head from the cradle very firm seating of ear cups no leakage from outside. be careful not to increase the volume too much when using the equaliser as i noticed that the volume is capable of making these headphones dance off your head (vibration intense). bought mine off amazon as i wanted them asap, but you will save a good bit by shopping around. best headphones i've ever had and they will last for years.   \n",
       "4                                                                                                                                                                                                                                                                                                                                                                                                                                                                                                                                                                                                                                                                                                                                                                                                                                                                                                                                                                                                                                                                                                                                                                                                                                                                                                                                                                                                                                                                                                                                                                                                                                                                                                                                                                                                                                                                                                                                                                                                                                                                                                                                                                                                                                                                                                                                                                                                         this is the 3rd wireless headphones i owned in the same price range. the other 2 being from the other 2 main brands selling this type of product. compared to the other 2 brands, these are more balanced. noticeably less kick on the low frequencies. i find them nicer for jazz but less engaging for r&b and similar. it's matter of taste, great quality overall. battery life much better than the others.on the other side, controls are much worse than both the other brands. being a very smart product it has almost no buttons, but whenever you accidentally brush against any of their surfaces, even by turning your neck, they pause, start, or do something else. it can be rather annoying. the features of recognition of movement to automatically turn on/off is useless: you can't listen to music while you sit on a train or they'll turn off after a few minutes because you've not moved your head enough to keep them turned on. overall a bit of a faff to use sometimes.   \n",
       "..                                                                                                                                                                                                                                                                                                                                                                                                                                                                                                                                                                                                                                                                                                                                                                                                                                                                                                                                                                                                                                                                                                                                                                                                                                                                                                                                                                                                                                                                                                                                                                                                                                                                                                                                                                                                                                                                                                                                                                                                                                                                                                                                                                                                                                                                                                                                                                                                                                                                                                                                                                                                                                                                                                                                                                                                                                                                                                                                                                                                                                                                                                                                                                                                                                                                                                                                                                                                          ...   \n",
       "95                                                                                                                                                                                                                                                                                                                                                                                                                                                                                                                                                                                                                                                                                                                                                                                                                                                                                                                                                                                                                                                                                                                                                                                                                                                                                                                                                                                                                                                                                                                                                                                                                                                                                                                                                                                                                                                                                                                                                                                                                                                                                                                                                                                                                                                                                                                                                                                                                                                                                                                                                                                                                                                                                                                                                                                                                                                                                                                                                                                                                                         loved my gsp650s thought the momentum 4 would be a premium headset. they are, but the moment you utilize the mic the sound stage drops sound turns to garbage. this seems like a limitation with bluetooth but the same happens with the supplied wire. as such returning these and getting a proper gaming headset with sadly, worse sound but functionally better.   \n",
       "96                                                                                                                                                                                                                                                                                                                                                                                                                                                                                                                                                                                                                                                                                                                                                                                                                                                                                                                                                                                                                                                                                                                                                                                                                                                                                                                                                                                                                                                                                                                                                                                                                                                                                                                                                                                                                                                                                                                                                                                                                                                                                                                                                                                                                                                                                                                                                                                                                                                                                                                                                                                                                                                                                                                                                                                                                                                                                                                                                                                                                                                                                                                                                                                                                                                                            bought these probably about 2 months ago, absolutely rubbish, they won’t come on now , so threw them in the bin , waste of money.   \n",
       "97                                                                                                                                                                                                                                                                                                                                                                                                                                                                                                                                                                                                                                                                                                                                                                                                                                                                                                                                                                                                                                                                                                                                                                                                                                                                                                                                                                                                                                                                                                                                                                                                                                                                                                                                                                                                                                                                                                                                                                                                                                                                                                                                                                                                                                                                                                                                                                                                                                                                                                                                                                                                                                                                                                                                                                                                                                                                                                                                                                             bought in august for my son's september birthday. they stopped working shortly after he received them. was told by amazon they had to be repaired not refunded because refund window was closed. sent to amazon approved repairer 5th october. the headphones are still not back. disappointed with the quality of the product and how it's being dealt with by amazon. i would like a refund for the bother and disappointment.   \n",
       "98                                                                                                                                                                                                                                                                                                                                                                                                                                                                                                                                                                                                                                                                                                                                                                                                                                                                                                                                                                                                                                                                                                                                                                                                                                                                                                                                                                                                                                                                                                                                                                                                                                                                                                                                                                                                                                                                                                                                                                                                                                                                                                                                                                                                                                                                                                                                                                                                                                                                                                                                                                                                                                                                                                                                                                                                                                                                                                                                                                                   bought two pairs. returned one pair because they wouldn't reliably turn on or pair. but the design of the controls is just terrible. the touch panel keeps getting bumped and doing things, it randomly turns the mic on and off during calls. there is only a single physical button that you have to hold in for different lengths of time to do anything.they sound good, but are unusable so that's irrelevant. avoid.   \n",
       "99                                                                                                                                                                                                                                                                                                                                                                                                                                                                                                                                                                                                                                                                                                                                                                                                                                                                                                                                                                                                                                                                                                                                                                                                                                                                                                                                                                                                                                                                                                                                                                                                                                                                                                                                                                                                                                                                                                                                                                                                                                                                                                                                                                                                                                                                                                                                                                                                                                                                                                                                                                                                                                                                                                                                                                                                                                                                                                                                                                                                                                                                                             the sound quality, build, battery life  and noise cancellation are all great. the headphones are let down by the power button that never works, frequently requiring a hard reset taking 30secs or more to switch the headphones back on. 2 firmware updates in and i still have the issue. would not recommend.   \n",
       "\n",
       "                                                          Title  Rating  \\\n",
       "0                                     awesome headphones…. but…     4.0   \n",
       "1   wonderful sound now that initial connection issues resolved     5.0   \n",
       "2                                 comfortable and quality sound     4.0   \n",
       "3                                60 hour battery life. amazing.     5.0   \n",
       "4                                    good quality, bad controls     4.0   \n",
       "..                                                          ...     ...   \n",
       "95                                        do not buy for gaming     1.0   \n",
       "96                                                      rubbish     1.0   \n",
       "97                    headphones developed a fault very quickly     1.0   \n",
       "98                                      unusable and unreliable     1.0   \n",
       "99            great headphones. let down by power button issues     1.0   \n",
       "\n",
       "          Date  \n",
       "0   08 10 2023  \n",
       "1   13 07 2023  \n",
       "2   04 08 2023  \n",
       "3   01 10 2023  \n",
       "4   06 09 2023  \n",
       "..         ...  \n",
       "95  26 11 2022  \n",
       "96  12 03 2023  \n",
       "97  30 10 2022  \n",
       "98  15 09 2022  \n",
       "99  16 11 2022  \n",
       "\n",
       "[100 rows x 5 columns]"
      ]
     },
     "execution_count": 3,
     "metadata": {},
     "output_type": "execute_result"
    }
   ],
   "source": [
    "df = pd.read_csv(\"C:\\\\Users\\\\tissi\\\\SENHEISER.csv\")\n",
    "df"
   ]
  },
  {
   "cell_type": "code",
   "execution_count": 4,
   "id": "6162eff3",
   "metadata": {},
   "outputs": [
    {
     "name": "stdout",
     "output_type": "stream",
     "text": [
      "No missing reviews found.\n"
     ]
    }
   ],
   "source": [
    "# Check for missing values in the \"Review\" column\n",
    "missing_reviews = df[df['Review'].isna()]\n",
    "\n",
    "# Print the number of missing reviews and their details\n",
    "if not missing_reviews.empty:\n",
    "    print(\"Missing Reviews:\")\n",
    "    print(missing_reviews)\n",
    "else:\n",
    "    print(\"No missing reviews found.\")"
   ]
  },
  {
   "cell_type": "markdown",
   "id": "fa10d976",
   "metadata": {},
   "source": [
    "No missing reviews found, we won't deal with N/A."
   ]
  },
  {
   "cell_type": "markdown",
   "id": "2dbf1083",
   "metadata": {},
   "source": [
    "Let's examine whether there are any repetitions in customer names. This consideration stems from the fact that occasionally individuals make purchases and leave reviews without creating a formal account, opting to enter as 'guests'."
   ]
  },
  {
   "cell_type": "code",
   "execution_count": 11,
   "id": "2dc57afb",
   "metadata": {},
   "outputs": [
    {
     "name": "stdout",
     "output_type": "stream",
     "text": [
      "Repeated names and their counts under 'ID':\n",
      "ID\n",
      "Amazon Customer    7\n",
      "AK                 3\n",
      "Name: count, dtype: int64\n"
     ]
    }
   ],
   "source": [
    "def find_repeated_names_and_counts(df):\n",
    "    repeated_names_series = df[df['ID'].duplicated(keep=False)]['ID']\n",
    "    repeated_names_counts = repeated_names_series.value_counts()\n",
    "    return repeated_names_counts\n",
    "\n",
    "repeated_names_counts = find_repeated_names_and_counts(df)\n",
    "\n",
    "print(f\"Repeated names and their counts under 'ID':\\n{repeated_names_counts}\")\n"
   ]
  },
  {
   "cell_type": "markdown",
   "id": "8b5b2370",
   "metadata": {},
   "source": [
    "It is evident that labels 'Amazon Customer' and 'AK' appears multiple times under the 'ID' column. To avoid having any future complication in the analysis let's find if those are repeated review of the same customer or different ones."
   ]
  },
  {
   "cell_type": "code",
   "execution_count": 12,
   "id": "833a3f40",
   "metadata": {},
   "outputs": [
    {
     "name": "stdout",
     "output_type": "stream",
     "text": [
      "The reviews for 'AK' are different.\n",
      "The reviews for 'Amazon Customer' are different.\n"
     ]
    }
   ],
   "source": [
    "# Function to check if reviews for repeated names are the same or not\n",
    "def check_reviews_similarity(df, column_name, review_column_name):\n",
    "    repeated_names_df = df[df[column_name].duplicated(keep=False)]\n",
    "    repeated_names_reviews = repeated_names_df.groupby(column_name)[review_column_name].unique()\n",
    "\n",
    "    for name, reviews in repeated_names_reviews.items():\n",
    "        if len(set(reviews)) == 1:\n",
    "            print(f\"The reviews for '{name}' are the same.\")\n",
    "        else:\n",
    "            print(f\"The reviews for '{name}' are different.\")\n",
    "\n",
    "column_to_check = 'ID'\n",
    "review_column = 'Review'\n",
    "\n",
    "check_reviews_similarity(df, column_to_check, review_column)"
   ]
  },
  {
   "cell_type": "markdown",
   "id": "2519ffda",
   "metadata": {},
   "source": [
    "Perfect just the names are the same"
   ]
  },
  {
   "cell_type": "code",
   "execution_count": 13,
   "id": "fb4b3734",
   "metadata": {
    "scrolled": true
   },
   "outputs": [],
   "source": [
    "# Function to rename equals names\n",
    "def rename_occurrences(df, column_name, names_to_rename):\n",
    "    for name in names_to_rename:\n",
    "        name_indices = df.index[df[column_name] == name].tolist()\n",
    "        rename_mapping = {index: f'{name}_{i + 1}' for i, index in enumerate(name_indices)}\n",
    "        df[column_name] = df.index.map(lambda x: rename_mapping.get(x, df.at[x, column_name]))\n",
    "\n",
    "column_to_check = 'ID'\n",
    "names_to_rename = ['AK', 'Amazon Customer']\n",
    "\n",
    "# Rename equals names with unique names\n",
    "rename_occurrences(df, column_to_check, names_to_rename)"
   ]
  },
  {
   "cell_type": "markdown",
   "id": "3ae6884f",
   "metadata": {},
   "source": [
    "This verification is crucial for sentiment analysis. The recurrence of the same name might be interpretated as a singular review from the same customer by the interpreter.\n",
    "I experienced this situation. Specifically, this problem originated from the analysis of Vader's scores (which we will explore in the next section). In some instances, reviews exhibited identical scores despite variations in both the rating and sentiment. After the rename the scores changed according to the sentiment of the review."
   ]
  },
  {
   "cell_type": "code",
   "execution_count": 7,
   "id": "e81e439b",
   "metadata": {},
   "outputs": [],
   "source": [
    "df['Title'] = df['Title'].str.lower()\n",
    "df['Review'] = df['Review'].str.lower()"
   ]
  },
  {
   "cell_type": "markdown",
   "id": "75af74ae",
   "metadata": {},
   "source": [
    "Converting text to lowercase (using str.lower()) is a common preprocessing step in Natural Language Processing (NLP).\n",
    "\n",
    "Text data can be **inconsistent** in terms of capitalization. By converting all text to lowercase, we ensure that the same word in different cases (e.g., \"apple\" and \"Apple\") is treated as the same word. This helps in standardizing the text and avoiding duplication in the analysis.\n",
    "\n",
    "Lowercasing reduces the dimensionality of the data and makes it easier to handle. It simplifies the text and can help to mitigate the impact of case differences on downstream NLP tasks, using lowercase words as features can improve model performance by reducing sparsity.\n",
    "\n",
    "While searching or matching text, converting everything to lowercase ensures that we won't miss matches due to differences in case. For example, when searching for \"apple,\" you don't want to miss instances of \"Apple.\"\n",
    "\n",
    "Common words like \"the,\" \"and,\" \"is,\" etc., are removed as they don't provide meaningful information. By converting text to lowercase, you ensure that stop words are consistently identified and removed.\n",
    "\n",
    "Many NLP models, including pre-trained language models like BERT, are trained on lowercase text. Using an input(a dataframe in this case) not totally lowercased won't align with the language model's expections and will affect the performance."
   ]
  },
  {
   "cell_type": "code",
   "execution_count": 8,
   "id": "5d6f95d9",
   "metadata": {
    "scrolled": true
   },
   "outputs": [
    {
     "data": {
      "text/html": [
       "<div>\n",
       "<style scoped>\n",
       "    .dataframe tbody tr th:only-of-type {\n",
       "        vertical-align: middle;\n",
       "    }\n",
       "\n",
       "    .dataframe tbody tr th {\n",
       "        vertical-align: top;\n",
       "    }\n",
       "\n",
       "    .dataframe thead th {\n",
       "        text-align: right;\n",
       "    }\n",
       "</style>\n",
       "<table border=\"1\" class=\"dataframe\">\n",
       "  <thead>\n",
       "    <tr style=\"text-align: right;\">\n",
       "      <th></th>\n",
       "      <th>ID</th>\n",
       "      <th>Review</th>\n",
       "      <th>Title</th>\n",
       "      <th>Rating</th>\n",
       "      <th>Date</th>\n",
       "      <th>Sentiment</th>\n",
       "    </tr>\n",
       "  </thead>\n",
       "  <tbody>\n",
       "    <tr>\n",
       "      <th>0</th>\n",
       "      <td>John C.</td>\n",
       "      <td>i have owned the momentum 2’s for many years and love them. but, after the battery started to fail and took over 8hrs to charge i decided to upgrade. here are my thoughts:sound - really good, but different to the 2’s. took some time to get used to but i really like the sound now.battery - amazing. 60 hours is huge and makes such a difference not having to charge so regularly.comfort - the 2’s were great but these are on another level. can wear for hours on end without getting hot or ever feeling uncomfortable.look - the 2’s looked amazing with the ivory colour. these look ok, but do not stand out. build quality is excellent. no creaking on mine.controls - i hate the touch controls and miss having a button to adjust the volume. if adjusting, then it is easy to activate a control. changing the volume is hit and miss. i have turned touch controls off as they are too unreliable. it would be good to switch just some of the controls off and just have volume, or have the ability to change via the app. maybe having less controls would help it work better.connectivity - multiple devices works fine. i’ve had no issues but it niggles me that when you connect, you get a lovely voice that tells you it has connected, but when you connect a  bluetooth device, a lady from essex tells you it is connected. it is so wierd they use different voices for different announcements.all in all a great pair of headphones but i wish sennheiser would address some minor niggles.</td>\n",
       "      <td>awesome headphones…. but…</td>\n",
       "      <td>4.0</td>\n",
       "      <td>08 10 2023</td>\n",
       "      <td>Positive</td>\n",
       "    </tr>\n",
       "    <tr>\n",
       "      <th>1</th>\n",
       "      <td>R Griffiths</td>\n",
       "      <td>at first i felt these headphones were a mixed bag of tricks. i had read other reviewers had problems but having an earlier sennheiser model and being familiar with their app i hoped for the best. however it took ages to get going. the on off control is tricky - to get a bluetooth connection the on button must be pressed till the lights flash rapidly. it's also hard to tell if it's really switched off. i then had a nightmare trying to connect to the sennheiser app. my older set connects to both the app and bluetooth in seconds and works brilliantly but the momentum 4 took me the best part of an hour plus another thirty minutes to install a firmware update. the problem i had, i think, was i initially tried connecting using a fire10 tablet and the app just didn't like it. as a last attempt i tried the fire max 11 which worked at once. i then then downloaded the update by which time i had had enough electronics for one very stressful evening. the next morning i tried again with the fire 10 and all was well. it seems the update resolved issues connecting to the app but unless you have another device or can find another way to update it's frustrating. sennheiser do say their app is designed for phones primarily and do offer support with tablet related problems but in the event i didn't need to contact them. since that first attempt i have had absolutely no problems with connection at all on any of the three devices i use.the sennheiser sound is superb on the momentum 4. i very much like the sound check system which helps to establish your personal presets by offering several sets of three settings - you select your preferred out of each set. i like a wide range of music including jazz, opera, rock, metal and in a few minutes was able to save settings for each genre. i had done this before with my older sennheiser with great success but the sound on this newer set is brilliant. unlike other reviewers i like the app. once you find your way round it it's easy to use and the online manual is comprehensive and clearly written.there is only one button on the momentum 4 much to my relief - and as i have said that one needs a bit of learning to operate effectively. other controls are by touch and these work extremely well  - swipe up and down for volume, touch for stop start etc.  unless you are committed to buttons this is a great improvement. the set is extremely comfortable with a neat flat appearance. i have noticed no clicking or creaking noises and no heat to my ears. it stays connected even when i move around a lot and stops as soon as removed from the head. the case is well designed with room for cables and guidance notes.i have used the set for about 40 hours so far, battery is still 50% charged. noise cancellation is easy to adjust on the app or the headphone touch control and seems good although i am in a quiet room. i haven't tried a phone connection as i am in an area where mobile reception is appalling.overall i am very happy but more comprehensive guidance notes in the initial paperwork would have saved me a frustrating hour - but i say that about anything new!!if your primary wish is great sound at a medium price this is a wonderful buy. but be ready to take time to establish connections and don't miss the update.</td>\n",
       "      <td>wonderful sound now that initial connection issues resolved</td>\n",
       "      <td>5.0</td>\n",
       "      <td>13 07 2023</td>\n",
       "      <td>Positive</td>\n",
       "    </tr>\n",
       "    <tr>\n",
       "      <th>2</th>\n",
       "      <td>Simon Pawlin</td>\n",
       "      <td>i wasn’t sure how good these were going to be as iv not had a pair of wireless premium over ear cans before. i have been using apple airpods pro and found these to be very average with rubbish bass. i wanted some headphones that were comfortable, had an open sound but with good bass. not blast your ass off bass mind you, but bass that would be quality.set up was a little bit of a mixed bag and i had to faff about a bit at first, as it didn’t work first time. but it  was a smooth experience the second time around.sound quality is excellent once you tailor it to your taste. the sound is open and expansive and bass feels well controlled, deep and heavy in tracks where that is intended and gentle where it is not. so i really enjoy that it pounds to dance tracks and rumbles to pop and rnb. mids and highs are tight and clear. have not experienced any distortion at any volume.i would say that noise cancelling is ok. it’s not the best but not bad either. if this is critical for you, look elsewhere. there isn’t any pressure sensation you sometimes get- well not that i noticed anyway.the good? these are really light and comfortable and the sound is very very good with quality bass, mids and highs. a real highlight though is the battery; i have had these for a while now and only charged them fully once- which is brilliant. another thing i like is these have a great case.the bad? well, i have had a really mixed experience with connecting to the pc with the usb-c cable. it sometimes works but mostly doesn't. also, it can often repeatedly announce it is ‘connecting’ or ‘disconnecting’ which can get a little annoying. it’s seems to do this when you have multiple devices nearby. but that seems to have settled over the last few weeks and doesn’t happen as often as it used to.overall, for the price, i am really happy with these. they are quality. i have listened to the ridiculously priced apple airpods max and i think these sound better and are more comfortable. i can’t compare to sony mx5 as only listened to them once. i think you’ll be happy with these great headphones</td>\n",
       "      <td>comfortable and quality sound</td>\n",
       "      <td>4.0</td>\n",
       "      <td>04 08 2023</td>\n",
       "      <td>Positive</td>\n",
       "    </tr>\n",
       "    <tr>\n",
       "      <th>3</th>\n",
       "      <td>Dezmo63</td>\n",
       "      <td>read a very long review by a lady who had trialed hers for months, like what she had to say, didn't like the fact that other well known brands were not even in the top five for recommended, so i've used mine and i am impressed with the battery life after playing music at decent volume with bass boosted checking app and seeing that battery hasn't even left 100% mark, further playing and only after a few hours it's still got 80% left. i do like one feature in particular if you take headphone off your head the music pauses and when you put them back to your ears the music continues, brilliant as you don't miss the tracks you were listening to unlike other headphones which would play the music off the head. very comfortable to wear virtually no drag on your head from the cradle very firm seating of ear cups no leakage from outside. be careful not to increase the volume too much when using the equaliser as i noticed that the volume is capable of making these headphones dance off your head (vibration intense). bought mine off amazon as i wanted them asap, but you will save a good bit by shopping around. best headphones i've ever had and they will last for years.</td>\n",
       "      <td>60 hour battery life. amazing.</td>\n",
       "      <td>5.0</td>\n",
       "      <td>01 10 2023</td>\n",
       "      <td>Positive</td>\n",
       "    </tr>\n",
       "    <tr>\n",
       "      <th>4</th>\n",
       "      <td>Gabriele Fazio</td>\n",
       "      <td>this is the 3rd wireless headphones i owned in the same price range. the other 2 being from the other 2 main brands selling this type of product. compared to the other 2 brands, these are more balanced. noticeably less kick on the low frequencies. i find them nicer for jazz but less engaging for r&amp;b and similar. it's matter of taste, great quality overall. battery life much better than the others.on the other side, controls are much worse than both the other brands. being a very smart product it has almost no buttons, but whenever you accidentally brush against any of their surfaces, even by turning your neck, they pause, start, or do something else. it can be rather annoying. the features of recognition of movement to automatically turn on/off is useless: you can't listen to music while you sit on a train or they'll turn off after a few minutes because you've not moved your head enough to keep them turned on. overall a bit of a faff to use sometimes.</td>\n",
       "      <td>good quality, bad controls</td>\n",
       "      <td>4.0</td>\n",
       "      <td>06 09 2023</td>\n",
       "      <td>Positive</td>\n",
       "    </tr>\n",
       "    <tr>\n",
       "      <th>...</th>\n",
       "      <td>...</td>\n",
       "      <td>...</td>\n",
       "      <td>...</td>\n",
       "      <td>...</td>\n",
       "      <td>...</td>\n",
       "      <td>...</td>\n",
       "    </tr>\n",
       "    <tr>\n",
       "      <th>95</th>\n",
       "      <td>Mr. P. Charles</td>\n",
       "      <td>loved my gsp650s thought the momentum 4 would be a premium headset. they are, but the moment you utilize the mic the sound stage drops sound turns to garbage. this seems like a limitation with bluetooth but the same happens with the supplied wire. as such returning these and getting a proper gaming headset with sadly, worse sound but functionally better.</td>\n",
       "      <td>do not buy for gaming</td>\n",
       "      <td>1.0</td>\n",
       "      <td>26 11 2022</td>\n",
       "      <td>Negative</td>\n",
       "    </tr>\n",
       "    <tr>\n",
       "      <th>96</th>\n",
       "      <td>Wayne</td>\n",
       "      <td>bought these probably about 2 months ago, absolutely rubbish, they won’t come on now , so threw them in the bin , waste of money.</td>\n",
       "      <td>rubbish</td>\n",
       "      <td>1.0</td>\n",
       "      <td>12 03 2023</td>\n",
       "      <td>Negative</td>\n",
       "    </tr>\n",
       "    <tr>\n",
       "      <th>97</th>\n",
       "      <td>\"kas5239\"</td>\n",
       "      <td>bought in august for my son's september birthday. they stopped working shortly after he received them. was told by amazon they had to be repaired not refunded because refund window was closed. sent to amazon approved repairer 5th october. the headphones are still not back. disappointed with the quality of the product and how it's being dealt with by amazon. i would like a refund for the bother and disappointment.</td>\n",
       "      <td>headphones developed a fault very quickly</td>\n",
       "      <td>1.0</td>\n",
       "      <td>30 10 2022</td>\n",
       "      <td>Negative</td>\n",
       "    </tr>\n",
       "    <tr>\n",
       "      <th>98</th>\n",
       "      <td>Suzi Edwards-Alexander</td>\n",
       "      <td>bought two pairs. returned one pair because they wouldn't reliably turn on or pair. but the design of the controls is just terrible. the touch panel keeps getting bumped and doing things, it randomly turns the mic on and off during calls. there is only a single physical button that you have to hold in for different lengths of time to do anything.they sound good, but are unusable so that's irrelevant. avoid.</td>\n",
       "      <td>unusable and unreliable</td>\n",
       "      <td>1.0</td>\n",
       "      <td>15 09 2022</td>\n",
       "      <td>Negative</td>\n",
       "    </tr>\n",
       "    <tr>\n",
       "      <th>99</th>\n",
       "      <td>Seb K</td>\n",
       "      <td>the sound quality, build, battery life  and noise cancellation are all great. the headphones are let down by the power button that never works, frequently requiring a hard reset taking 30secs or more to switch the headphones back on. 2 firmware updates in and i still have the issue. would not recommend.</td>\n",
       "      <td>great headphones. let down by power button issues</td>\n",
       "      <td>1.0</td>\n",
       "      <td>16 11 2022</td>\n",
       "      <td>Negative</td>\n",
       "    </tr>\n",
       "  </tbody>\n",
       "</table>\n",
       "<p>100 rows × 6 columns</p>\n",
       "</div>"
      ],
      "text/plain": [
       "                        ID  \\\n",
       "0                  John C.   \n",
       "1              R Griffiths   \n",
       "2             Simon Pawlin   \n",
       "3                  Dezmo63   \n",
       "4           Gabriele Fazio   \n",
       "..                     ...   \n",
       "95          Mr. P. Charles   \n",
       "96                   Wayne   \n",
       "97               \"kas5239\"   \n",
       "98  Suzi Edwards-Alexander   \n",
       "99                   Seb K   \n",
       "\n",
       "                                                                                                                                                                                                                                                                                                                                                                                                                                                                                                                                                                                                                                                                                                                                                                                                                                                                                                                                                                                                                                                                                                                                                                                                                                                                                                                                                                                                                                                                                                                                                                                                                                                                                                                                                                                                                                                                                                                                                                                                                                                                                                                                                                                                                                                                                                                                                                                                                                                                                                                                                                                                                                                                                                                                                                                                                                                                                                                                                                                                                                                                                                                                                                                                                                                                                                                                                                                                         Review  \\\n",
       "0                                                                                                                                                                                                                                                                                                                                                                                                                                                                                                                                                                                                                                                                                                                                                                                                                                                                                                                                                                                                                                                                                                                                                                                                                                                                                                                                                                                                                                                                                                                                                                                                                                                                                                                                                                                                                                                                              i have owned the momentum 2’s for many years and love them. but, after the battery started to fail and took over 8hrs to charge i decided to upgrade. here are my thoughts:sound - really good, but different to the 2’s. took some time to get used to but i really like the sound now.battery - amazing. 60 hours is huge and makes such a difference not having to charge so regularly.comfort - the 2’s were great but these are on another level. can wear for hours on end without getting hot or ever feeling uncomfortable.look - the 2’s looked amazing with the ivory colour. these look ok, but do not stand out. build quality is excellent. no creaking on mine.controls - i hate the touch controls and miss having a button to adjust the volume. if adjusting, then it is easy to activate a control. changing the volume is hit and miss. i have turned touch controls off as they are too unreliable. it would be good to switch just some of the controls off and just have volume, or have the ability to change via the app. maybe having less controls would help it work better.connectivity - multiple devices works fine. i’ve had no issues but it niggles me that when you connect, you get a lovely voice that tells you it has connected, but when you connect a  bluetooth device, a lady from essex tells you it is connected. it is so wierd they use different voices for different announcements.all in all a great pair of headphones but i wish sennheiser would address some minor niggles.   \n",
       "1   at first i felt these headphones were a mixed bag of tricks. i had read other reviewers had problems but having an earlier sennheiser model and being familiar with their app i hoped for the best. however it took ages to get going. the on off control is tricky - to get a bluetooth connection the on button must be pressed till the lights flash rapidly. it's also hard to tell if it's really switched off. i then had a nightmare trying to connect to the sennheiser app. my older set connects to both the app and bluetooth in seconds and works brilliantly but the momentum 4 took me the best part of an hour plus another thirty minutes to install a firmware update. the problem i had, i think, was i initially tried connecting using a fire10 tablet and the app just didn't like it. as a last attempt i tried the fire max 11 which worked at once. i then then downloaded the update by which time i had had enough electronics for one very stressful evening. the next morning i tried again with the fire 10 and all was well. it seems the update resolved issues connecting to the app but unless you have another device or can find another way to update it's frustrating. sennheiser do say their app is designed for phones primarily and do offer support with tablet related problems but in the event i didn't need to contact them. since that first attempt i have had absolutely no problems with connection at all on any of the three devices i use.the sennheiser sound is superb on the momentum 4. i very much like the sound check system which helps to establish your personal presets by offering several sets of three settings - you select your preferred out of each set. i like a wide range of music including jazz, opera, rock, metal and in a few minutes was able to save settings for each genre. i had done this before with my older sennheiser with great success but the sound on this newer set is brilliant. unlike other reviewers i like the app. once you find your way round it it's easy to use and the online manual is comprehensive and clearly written.there is only one button on the momentum 4 much to my relief - and as i have said that one needs a bit of learning to operate effectively. other controls are by touch and these work extremely well  - swipe up and down for volume, touch for stop start etc.  unless you are committed to buttons this is a great improvement. the set is extremely comfortable with a neat flat appearance. i have noticed no clicking or creaking noises and no heat to my ears. it stays connected even when i move around a lot and stops as soon as removed from the head. the case is well designed with room for cables and guidance notes.i have used the set for about 40 hours so far, battery is still 50% charged. noise cancellation is easy to adjust on the app or the headphone touch control and seems good although i am in a quiet room. i haven't tried a phone connection as i am in an area where mobile reception is appalling.overall i am very happy but more comprehensive guidance notes in the initial paperwork would have saved me a frustrating hour - but i say that about anything new!!if your primary wish is great sound at a medium price this is a wonderful buy. but be ready to take time to establish connections and don't miss the update.   \n",
       "2                                                                                                                                                                                                                                                                                                                                                                                                                                                                                                                                                                                                                                                                                                                                                                                                                                                                                                                                                                                                                                                                                                                                                                                                                                     i wasn’t sure how good these were going to be as iv not had a pair of wireless premium over ear cans before. i have been using apple airpods pro and found these to be very average with rubbish bass. i wanted some headphones that were comfortable, had an open sound but with good bass. not blast your ass off bass mind you, but bass that would be quality.set up was a little bit of a mixed bag and i had to faff about a bit at first, as it didn’t work first time. but it  was a smooth experience the second time around.sound quality is excellent once you tailor it to your taste. the sound is open and expansive and bass feels well controlled, deep and heavy in tracks where that is intended and gentle where it is not. so i really enjoy that it pounds to dance tracks and rumbles to pop and rnb. mids and highs are tight and clear. have not experienced any distortion at any volume.i would say that noise cancelling is ok. it’s not the best but not bad either. if this is critical for you, look elsewhere. there isn’t any pressure sensation you sometimes get- well not that i noticed anyway.the good? these are really light and comfortable and the sound is very very good with quality bass, mids and highs. a real highlight though is the battery; i have had these for a while now and only charged them fully once- which is brilliant. another thing i like is these have a great case.the bad? well, i have had a really mixed experience with connecting to the pc with the usb-c cable. it sometimes works but mostly doesn't. also, it can often repeatedly announce it is ‘connecting’ or ‘disconnecting’ which can get a little annoying. it’s seems to do this when you have multiple devices nearby. but that seems to have settled over the last few weeks and doesn’t happen as often as it used to.overall, for the price, i am really happy with these. they are quality. i have listened to the ridiculously priced apple airpods max and i think these sound better and are more comfortable. i can’t compare to sony mx5 as only listened to them once. i think you’ll be happy with these great headphones   \n",
       "3                                                                                                                                                                                                                                                                                                                                                                                                                                                                                                                                                                                                                                                                                                                                                                                                                                                                                                                                                                                                                                                                                                                                                                                                                                                                                                                                                                                                                                                                                                                                                                                                                                                                                                                                                                                                                                                                                                                                                                                                                                                                                                                                                                                        read a very long review by a lady who had trialed hers for months, like what she had to say, didn't like the fact that other well known brands were not even in the top five for recommended, so i've used mine and i am impressed with the battery life after playing music at decent volume with bass boosted checking app and seeing that battery hasn't even left 100% mark, further playing and only after a few hours it's still got 80% left. i do like one feature in particular if you take headphone off your head the music pauses and when you put them back to your ears the music continues, brilliant as you don't miss the tracks you were listening to unlike other headphones which would play the music off the head. very comfortable to wear virtually no drag on your head from the cradle very firm seating of ear cups no leakage from outside. be careful not to increase the volume too much when using the equaliser as i noticed that the volume is capable of making these headphones dance off your head (vibration intense). bought mine off amazon as i wanted them asap, but you will save a good bit by shopping around. best headphones i've ever had and they will last for years.   \n",
       "4                                                                                                                                                                                                                                                                                                                                                                                                                                                                                                                                                                                                                                                                                                                                                                                                                                                                                                                                                                                                                                                                                                                                                                                                                                                                                                                                                                                                                                                                                                                                                                                                                                                                                                                                                                                                                                                                                                                                                                                                                                                                                                                                                                                                                                                                                                                                                                                                         this is the 3rd wireless headphones i owned in the same price range. the other 2 being from the other 2 main brands selling this type of product. compared to the other 2 brands, these are more balanced. noticeably less kick on the low frequencies. i find them nicer for jazz but less engaging for r&b and similar. it's matter of taste, great quality overall. battery life much better than the others.on the other side, controls are much worse than both the other brands. being a very smart product it has almost no buttons, but whenever you accidentally brush against any of their surfaces, even by turning your neck, they pause, start, or do something else. it can be rather annoying. the features of recognition of movement to automatically turn on/off is useless: you can't listen to music while you sit on a train or they'll turn off after a few minutes because you've not moved your head enough to keep them turned on. overall a bit of a faff to use sometimes.   \n",
       "..                                                                                                                                                                                                                                                                                                                                                                                                                                                                                                                                                                                                                                                                                                                                                                                                                                                                                                                                                                                                                                                                                                                                                                                                                                                                                                                                                                                                                                                                                                                                                                                                                                                                                                                                                                                                                                                                                                                                                                                                                                                                                                                                                                                                                                                                                                                                                                                                                                                                                                                                                                                                                                                                                                                                                                                                                                                                                                                                                                                                                                                                                                                                                                                                                                                                                                                                                                                                          ...   \n",
       "95                                                                                                                                                                                                                                                                                                                                                                                                                                                                                                                                                                                                                                                                                                                                                                                                                                                                                                                                                                                                                                                                                                                                                                                                                                                                                                                                                                                                                                                                                                                                                                                                                                                                                                                                                                                                                                                                                                                                                                                                                                                                                                                                                                                                                                                                                                                                                                                                                                                                                                                                                                                                                                                                                                                                                                                                                                                                                                                                                                                                                                         loved my gsp650s thought the momentum 4 would be a premium headset. they are, but the moment you utilize the mic the sound stage drops sound turns to garbage. this seems like a limitation with bluetooth but the same happens with the supplied wire. as such returning these and getting a proper gaming headset with sadly, worse sound but functionally better.   \n",
       "96                                                                                                                                                                                                                                                                                                                                                                                                                                                                                                                                                                                                                                                                                                                                                                                                                                                                                                                                                                                                                                                                                                                                                                                                                                                                                                                                                                                                                                                                                                                                                                                                                                                                                                                                                                                                                                                                                                                                                                                                                                                                                                                                                                                                                                                                                                                                                                                                                                                                                                                                                                                                                                                                                                                                                                                                                                                                                                                                                                                                                                                                                                                                                                                                                                                                            bought these probably about 2 months ago, absolutely rubbish, they won’t come on now , so threw them in the bin , waste of money.   \n",
       "97                                                                                                                                                                                                                                                                                                                                                                                                                                                                                                                                                                                                                                                                                                                                                                                                                                                                                                                                                                                                                                                                                                                                                                                                                                                                                                                                                                                                                                                                                                                                                                                                                                                                                                                                                                                                                                                                                                                                                                                                                                                                                                                                                                                                                                                                                                                                                                                                                                                                                                                                                                                                                                                                                                                                                                                                                                                                                                                                                                             bought in august for my son's september birthday. they stopped working shortly after he received them. was told by amazon they had to be repaired not refunded because refund window was closed. sent to amazon approved repairer 5th october. the headphones are still not back. disappointed with the quality of the product and how it's being dealt with by amazon. i would like a refund for the bother and disappointment.   \n",
       "98                                                                                                                                                                                                                                                                                                                                                                                                                                                                                                                                                                                                                                                                                                                                                                                                                                                                                                                                                                                                                                                                                                                                                                                                                                                                                                                                                                                                                                                                                                                                                                                                                                                                                                                                                                                                                                                                                                                                                                                                                                                                                                                                                                                                                                                                                                                                                                                                                                                                                                                                                                                                                                                                                                                                                                                                                                                                                                                                                                                   bought two pairs. returned one pair because they wouldn't reliably turn on or pair. but the design of the controls is just terrible. the touch panel keeps getting bumped and doing things, it randomly turns the mic on and off during calls. there is only a single physical button that you have to hold in for different lengths of time to do anything.they sound good, but are unusable so that's irrelevant. avoid.   \n",
       "99                                                                                                                                                                                                                                                                                                                                                                                                                                                                                                                                                                                                                                                                                                                                                                                                                                                                                                                                                                                                                                                                                                                                                                                                                                                                                                                                                                                                                                                                                                                                                                                                                                                                                                                                                                                                                                                                                                                                                                                                                                                                                                                                                                                                                                                                                                                                                                                                                                                                                                                                                                                                                                                                                                                                                                                                                                                                                                                                                                                                                                                                                             the sound quality, build, battery life  and noise cancellation are all great. the headphones are let down by the power button that never works, frequently requiring a hard reset taking 30secs or more to switch the headphones back on. 2 firmware updates in and i still have the issue. would not recommend.   \n",
       "\n",
       "                                                          Title  Rating  \\\n",
       "0                                     awesome headphones…. but…     4.0   \n",
       "1   wonderful sound now that initial connection issues resolved     5.0   \n",
       "2                                 comfortable and quality sound     4.0   \n",
       "3                                60 hour battery life. amazing.     5.0   \n",
       "4                                    good quality, bad controls     4.0   \n",
       "..                                                          ...     ...   \n",
       "95                                        do not buy for gaming     1.0   \n",
       "96                                                      rubbish     1.0   \n",
       "97                    headphones developed a fault very quickly     1.0   \n",
       "98                                      unusable and unreliable     1.0   \n",
       "99            great headphones. let down by power button issues     1.0   \n",
       "\n",
       "          Date Sentiment  \n",
       "0   08 10 2023  Positive  \n",
       "1   13 07 2023  Positive  \n",
       "2   04 08 2023  Positive  \n",
       "3   01 10 2023  Positive  \n",
       "4   06 09 2023  Positive  \n",
       "..         ...       ...  \n",
       "95  26 11 2022  Negative  \n",
       "96  12 03 2023  Negative  \n",
       "97  30 10 2022  Negative  \n",
       "98  15 09 2022  Negative  \n",
       "99  16 11 2022  Negative  \n",
       "\n",
       "[100 rows x 6 columns]"
      ]
     },
     "execution_count": 8,
     "metadata": {},
     "output_type": "execute_result"
    }
   ],
   "source": [
    "def rating_into_sentiment(row):\n",
    "    if row == 3.0:\n",
    "        return 'Neutral'\n",
    "    elif row >= 4.0:\n",
    "        return 'Positive'\n",
    "    elif row <= 2.0:\n",
    "        return 'Negative'\n",
    "\n",
    "# Convert the 'Rating' column to a numeric data type\n",
    "df['Rating'] = pd.to_numeric(df['Rating'], errors='coerce')\n",
    "\n",
    "df['Sentiment'] = df['Rating'].apply(rating_into_sentiment)\n",
    "\n",
    "df"
   ]
  },
  {
   "cell_type": "markdown",
   "id": "d6ad7a47",
   "metadata": {},
   "source": [
    "This function is designed to convert star ratings into sentiment labels.\n",
    "\n",
    "**rating_into_sentiment** takes a numeric value as input (the star rating) and returns the corresponding sentiment label.\n",
    "\n",
    "It applies the rating_into_sentiment function to each element in the 'Rating' column and creates a new column called 'Sentiment' to store the corresponding sentiment labels."
   ]
  },
  {
   "cell_type": "code",
   "execution_count": 9,
   "id": "73282ae4",
   "metadata": {},
   "outputs": [],
   "source": [
    "def polish(Review):\n",
    "    Review = re.sub('\\W+', ' ', Review)                                   # Remove special characters\n",
    "    Review = re.sub(r'[:;=]\\s*[-]?[)D(\\[\\]/\\\\OpP]', '', Review)           # Remove emoticons\n",
    "    Review = re.sub(r'[^\\w\\s:]', '', Review)                              # Remove punctuation\n",
    "    Review = re.sub('\\[.*?\\]', '', Review)                                # Remove text inside square brackets\n",
    "    Review = re.sub('https?://\\S+|www\\.\\S+', '', Review)                  # Remove URLs\n",
    "    Review = re.sub('<.*?>+', '', Review)                                 # Remove HTML tags\n",
    "    Review = re.sub('[%s]' % re.escape(string.punctuation), '', Review)   # Remove remaining punctuation\n",
    "    Review = re.sub('\\n', '', Review)                                     # Remove newline characters\n",
    "    Review = re.sub('\\w*\\d\\w*', '', Review)                               # Remove words containing digits\n",
    "    Review = re.sub('\\d+', '', Review)                                    # Remove numbers\n",
    "    return Review\n",
    "    \n",
    "\n",
    "def clean_urls(Review):\n",
    "    return re.sub(r'http\\S+', '', Review)\n",
    "\n",
    "# Expansion of contractions\n",
    "def contraction_expansion(Review):\n",
    "    Review = re.sub(r\"won\\'t\", \"would not\", Review)\n",
    "    Review = re.sub(r\"can\\'t\", \"can not\", Review)\n",
    "    Review = re.sub(r\"don\\'t\", \"do not\", Review)\n",
    "    Review = re.sub(r\"shouldn\\'t\", \"should not\", Review)\n",
    "    Review = re.sub(r\"wouldn\\'t\", \"would not\", Review)\n",
    "    Review = re.sub(r\"needn\\'t\", \"need not\", Review)\n",
    "    Review = re.sub(r\"hasn\\'t\", \"has not\", Review)\n",
    "    Review = re.sub(r\"haven\\'t\", \"have not\", Review)\n",
    "    Review = re.sub(r\"wasn\\'t\", \"was not\", Review)\n",
    "    Review = re.sub(r\"weren\\'t\", \"were not\", Review)\n",
    "    Review = re.sub(r\"mightn\\'t\", \"might not\", Review)\n",
    "    Review = re.sub(r\"didn\\'t\", \"did not\", Review)\n",
    "    Review = re.sub(r\"isn\\'t\", \"is not\", Review)\n",
    "    Review = re.sub(r\"aren\\'t\", \"are not\", Review)\n",
    "    Review = re.sub(r\"doesn\\'t\", \"does not\", Review)\n",
    "    \n",
    "    return Review\n",
    "\n",
    "def data_cleaning(Review):\n",
    "    Review = clean_urls(Review)\n",
    "    Review = contraction_expansion(Review)\n",
    "    Review = polish(Review)   \n",
    "    return Review"
   ]
  },
  {
   "cell_type": "markdown",
   "id": "7e38c3bb",
   "metadata": {},
   "source": [
    "**polish(Review)**: This function takes a text input Review and performs the following operations:\n",
    "\n",
    "- Removes special characters using regular expressions and replaces them with a space.\n",
    "- Removes emoticons by using a regular expression that matches common emoticons and replaces them with an empty string.\n",
    "- Removes punctuation by using a regular expression that keeps only words and spaces.\n",
    "- Removes text inside square brackets.\n",
    "- Removes URLs.\n",
    "- Removes HTML tags.\n",
    "- Removes remaining punctuation.\n",
    "- Removes newline characters.\n",
    "- Removes words containing digits.\n",
    "- Remove numbers\n",
    "\n",
    "**clean_urls(Review)**: This function takes a text input Review and removes URLs (web links) from the text.\n",
    "\n",
    "**contraction_expansion(Review)**: This function performs the expansion of contractions. It takes a text input Review and expands common contractions into their full forms using a series of regular expressions. For example, \"won't\" is expanded to \"would not,\" \"can't\" to \"can not,\" and so on. This is done to standardize contractions in text data.\n",
    "\n",
    "**data_cleaning(Review)**: This function combines the three preprocessing functions mentioned above (clean_urls, contraction_expansion, and polish) to perform a comprehensive cleaning and preparation of the input text. It first removes URLs, then expands contractions, and finally, polishes the text by removing special characters, emoticons, and punctuation.\n",
    "Leaving a *clean* review."
   ]
  },
  {
   "cell_type": "markdown",
   "id": "48d4f525",
   "metadata": {},
   "source": [
    "Let's try to put togheter the title togheter with  the review. The title is a more frank opinion on the product typically composed by few words"
   ]
  },
  {
   "cell_type": "code",
   "execution_count": 10,
   "id": "c713d261",
   "metadata": {},
   "outputs": [],
   "source": [
    "df['Full Review'] = df['Title'] + ': ' + df['Review']"
   ]
  },
  {
   "cell_type": "code",
   "execution_count": 11,
   "id": "f74b51f0",
   "metadata": {},
   "outputs": [],
   "source": [
    "df['Full Review'] = df['Full Review'].apply(data_cleaning)"
   ]
  },
  {
   "cell_type": "code",
   "execution_count": 12,
   "id": "23a9a8d2",
   "metadata": {},
   "outputs": [
    {
     "data": {
      "text/plain": [
       "149"
      ]
     },
     "execution_count": 12,
     "metadata": {},
     "output_type": "execute_result"
    }
   ],
   "source": [
    "stop_words = [\n",
    "    'i', 'me', 'would', 'and', 'also', 'get', 'let', 'one', 'shall', 'should', 'may', 'might', 'could', 'my', 'myself', 'we', 'our', 'ours', 'ourselves', 'you', \"you're\", \"you've\", \"you'll\", \"you'd\", 'your', 'yours', 'yourself', 'yourselves', 'he', 'him', 'his', 'himself', 'she', \"she's\", 'her', 'hers', 'herself', 'it', \"it's\", 'its', 'itself', 'they', 'them', 'their', 'theirs', 'themselves', 'what', 'which', 'who', 'whom', 'this', 'that', \"that'll\", 'these', 'those', 'am', 'is', 'are', 'was', 'were', 'be', 'been', 'being', 'have', 'has', 'had', 'having', 'do', 'does', 'did', 'doing', 'a', 'an', 'the', 'and', 'but', 'if', 'or', 'because', 'as', 'until', 'while', 'of', 'at', 'by', 'for', 'with', 'about', 'against', 'between', 'into', 'through', 'during', 'before', 'after', 'above', 'below', 'to', 'from', 'up', 'down', 'in', 'out', 'on', 'off', 'over', 'under', 'again', 'further', 'then', 'once', 'here', 'there', 'when', 'where', 'why', 'how', 'all', 'any', 'both', 'each', 'few', 'more', 'most', 'other', 'some', 'such', 'only', 'own', 'same', 'so', 'than', 'too', 'very', 's', 't', 'can', 'will', 'just', 'should', \"should've\", 'now', 'd', 'll', 'm', 'o', 're', 've', 'y'\n",
    "]\n",
    "\n",
    "len(stop_words)"
   ]
  },
  {
   "cell_type": "code",
   "execution_count": 13,
   "id": "d6d98302",
   "metadata": {},
   "outputs": [],
   "source": [
    "df['Full Review'] = df['Full Review'].apply(lambda x: ' '.join([word for word in x.split() if word not in (stop_words)]))"
   ]
  },
  {
   "cell_type": "code",
   "execution_count": 14,
   "id": "fb1e51b5",
   "metadata": {
    "scrolled": false
   },
   "outputs": [
    {
     "data": {
      "text/html": [
       "<div>\n",
       "<style scoped>\n",
       "    .dataframe tbody tr th:only-of-type {\n",
       "        vertical-align: middle;\n",
       "    }\n",
       "\n",
       "    .dataframe tbody tr th {\n",
       "        vertical-align: top;\n",
       "    }\n",
       "\n",
       "    .dataframe thead th {\n",
       "        text-align: right;\n",
       "    }\n",
       "</style>\n",
       "<table border=\"1\" class=\"dataframe\">\n",
       "  <thead>\n",
       "    <tr style=\"text-align: right;\">\n",
       "      <th></th>\n",
       "      <th>ID</th>\n",
       "      <th>Full Review</th>\n",
       "      <th>Review</th>\n",
       "      <th>Title</th>\n",
       "      <th>Rating</th>\n",
       "      <th>Sentiment</th>\n",
       "      <th>Date</th>\n",
       "    </tr>\n",
       "  </thead>\n",
       "  <tbody>\n",
       "    <tr>\n",
       "      <th>0</th>\n",
       "      <td>John C.</td>\n",
       "      <td>awesome headphones owned momentum many years love battery started fail took charge decided upgrade thoughts sound really good different took time used really like sound battery amazing hours huge makes difference not charge regularly comfort great another level wear hours end without getting hot ever feeling uncomfortable look looked amazing ivory colour look ok not stand build quality excellent no creaking mine controls hate touch controls miss button adjust volume adjusting easy activate control changing volume hit miss turned touch controls unreliable good switch controls volume ability change via app maybe less controls help work better connectivity multiple devices works fine no issues niggles connect lovely voice tells connected connect bluetooth device lady essex tells connected wierd use different voices different announcements great pair headphones wish sennheiser address minor niggles</td>\n",
       "      <td>i have owned the momentum 2’s for many years and love them. but, after the battery started to fail and took over 8hrs to charge i decided to upgrade. here are my thoughts:sound - really good, but different to the 2’s. took some time to get used to but i really like the sound now.battery - amazing. 60 hours is huge and makes such a difference not having to charge so regularly.comfort - the 2’s were great but these are on another level. can wear for hours on end without getting hot or ever feeling uncomfortable.look - the 2’s looked amazing with the ivory colour. these look ok, but do not stand out. build quality is excellent. no creaking on mine.controls - i hate the touch controls and miss having a button to adjust the volume. if adjusting, then it is easy to activate a control. changing the volume is hit and miss. i have turned touch controls off as they are too unreliable. it would be good to switch just some of the controls off and just have volume, or have the ability to change via the app. maybe having less controls would help it work better.connectivity - multiple devices works fine. i’ve had no issues but it niggles me that when you connect, you get a lovely voice that tells you it has connected, but when you connect a  bluetooth device, a lady from essex tells you it is connected. it is so wierd they use different voices for different announcements.all in all a great pair of headphones but i wish sennheiser would address some minor niggles.</td>\n",
       "      <td>awesome headphones…. but…</td>\n",
       "      <td>4.0</td>\n",
       "      <td>Positive</td>\n",
       "      <td>08 10 2023</td>\n",
       "    </tr>\n",
       "  </tbody>\n",
       "</table>\n",
       "</div>"
      ],
      "text/plain": [
       "        ID  \\\n",
       "0  John C.   \n",
       "\n",
       "                                                                                                                                                                                                                                                                                                                                                                                                                                                                                                                                                                                                                                                                                                                                                                                                                                                                                                                                   Full Review  \\\n",
       "0  awesome headphones owned momentum many years love battery started fail took charge decided upgrade thoughts sound really good different took time used really like sound battery amazing hours huge makes difference not charge regularly comfort great another level wear hours end without getting hot ever feeling uncomfortable look looked amazing ivory colour look ok not stand build quality excellent no creaking mine controls hate touch controls miss button adjust volume adjusting easy activate control changing volume hit miss turned touch controls unreliable good switch controls volume ability change via app maybe less controls help work better connectivity multiple devices works fine no issues niggles connect lovely voice tells connected connect bluetooth device lady essex tells connected wierd use different voices different announcements great pair headphones wish sennheiser address minor niggles   \n",
       "\n",
       "                                                                                                                                                                                                                                                                                                                                                                                                                                                                                                                                                                                                                                                                                                                                                                                                                                                                                                                                                                                                                                                                                                                                                                                                                                                                                                                                                                                                                                                                                                                             Review  \\\n",
       "0  i have owned the momentum 2’s for many years and love them. but, after the battery started to fail and took over 8hrs to charge i decided to upgrade. here are my thoughts:sound - really good, but different to the 2’s. took some time to get used to but i really like the sound now.battery - amazing. 60 hours is huge and makes such a difference not having to charge so regularly.comfort - the 2’s were great but these are on another level. can wear for hours on end without getting hot or ever feeling uncomfortable.look - the 2’s looked amazing with the ivory colour. these look ok, but do not stand out. build quality is excellent. no creaking on mine.controls - i hate the touch controls and miss having a button to adjust the volume. if adjusting, then it is easy to activate a control. changing the volume is hit and miss. i have turned touch controls off as they are too unreliable. it would be good to switch just some of the controls off and just have volume, or have the ability to change via the app. maybe having less controls would help it work better.connectivity - multiple devices works fine. i’ve had no issues but it niggles me that when you connect, you get a lovely voice that tells you it has connected, but when you connect a  bluetooth device, a lady from essex tells you it is connected. it is so wierd they use different voices for different announcements.all in all a great pair of headphones but i wish sennheiser would address some minor niggles.   \n",
       "\n",
       "                       Title  Rating Sentiment        Date  \n",
       "0  awesome headphones…. but…     4.0  Positive  08 10 2023  "
      ]
     },
     "execution_count": 14,
     "metadata": {},
     "output_type": "execute_result"
    }
   ],
   "source": [
    "df = df[['ID', 'Full Review', 'Review', 'Title', 'Rating', 'Sentiment', 'Date']]\n",
    "df.head(1)"
   ]
  },
  {
   "cell_type": "code",
   "execution_count": 15,
   "id": "a105ee8a",
   "metadata": {},
   "outputs": [],
   "source": [
    "df['Date'] = pd.to_datetime(df['Date'], format='%d %m %Y')\n",
    "\n",
    "# Extract day, month, and year into separate columns\n",
    "df['Year'] = df['Date'].dt.year\n",
    "df['Month'] = df['Date'].dt.month\n",
    "df['Day'] = df['Date'].dt.day"
   ]
  },
  {
   "cell_type": "markdown",
   "id": "1ec5aabb",
   "metadata": {},
   "source": [
    "Transform the original date information into a more structured format and adds separate columns for the year, month, and day components, making it easier to analyze or filter data based on these temporal attributes."
   ]
  },
  {
   "cell_type": "code",
   "execution_count": 16,
   "id": "9cb6c242",
   "metadata": {},
   "outputs": [],
   "source": [
    "# Save the DataFrame to a CSV file\n",
    "df.to_csv('SENHEISER.csv', index=False)"
   ]
  }
 ],
 "metadata": {
  "kernelspec": {
   "display_name": "Python 3 (ipykernel)",
   "language": "python",
   "name": "python3"
  },
  "language_info": {
   "codemirror_mode": {
    "name": "ipython",
    "version": 3
   },
   "file_extension": ".py",
   "mimetype": "text/x-python",
   "name": "python",
   "nbconvert_exporter": "python",
   "pygments_lexer": "ipython3",
   "version": "3.9.18"
  }
 },
 "nbformat": 4,
 "nbformat_minor": 5
}
